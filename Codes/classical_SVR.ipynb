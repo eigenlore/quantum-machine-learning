{
 "cells": [
  {
   "cell_type": "code",
   "execution_count": 1,
   "metadata": {},
   "outputs": [],
   "source": [
    "from pylab import cm\n",
    "from sklearn import metrics\n",
    "import numpy as np\n",
    "import matplotlib\n",
    "import matplotlib.pyplot as plt\n",
    "from qiskit import QuantumCircuit\n",
    "from qiskit.circuit import ParameterVector\n",
    "from qiskit.visualization import circuit_drawer\n",
    "from qiskit.circuit.library import ZZFeatureMap, PauliFeatureMap, ZFeatureMap\n",
    "from qiskit_algorithms.optimizers import SPSA\n",
    "from qiskit_machine_learning.kernels import TrainableFidelityQuantumKernel, TrainableKernel\n",
    "from qiskit_machine_learning.kernels.algorithms import QuantumKernelTrainer\n",
    "from qiskit_machine_learning.algorithms import QSVR\n",
    "from qiskit_machine_learning.datasets import ad_hoc_data\n",
    "from qiskit_algorithms.utils import algorithm_globals\n",
    "from sklearn.preprocessing import StandardScaler, MinMaxScaler\n",
    "from sklearn.model_selection import train_test_split\n",
    "from sklearn import datasets\n",
    "from qiskit_machine_learning.utils.loss_functions import KernelLoss, SVCLoss\n",
    "from typing import Sequence\n",
    "from sklearn.svm import SVC, SVR\n",
    "from sklearn.metrics import mean_squared_error"
   ]
  },
  {
   "cell_type": "code",
   "execution_count": 2,
   "metadata": {},
   "outputs": [
    {
     "name": "stdout",
     "output_type": "stream",
     "text": [
      "[0.17667051 0.89357285] 2.1702480705718084\n"
     ]
    }
   ],
   "source": [
    "algorithm_globals.random_seed = 13\n",
    "\n",
    "def levy(X):\n",
    "    y = np.zeros(X.shape[0])\n",
    "    for i in range(len(y)):\n",
    "        y[i] = (np.sin(3*np.pi*X[i][0]))**2 + (X[i][0]-1)**2 * (1 + (np.sin(3*np.pi*X[i][1]))**2) + (X[i][1]-1)**2 * (1 + (np.sin(3*np.pi*X[i][1]))**2)\n",
    "\n",
    "    return y\n",
    "\n",
    "X = np.random.rand(50, 2)\n",
    "y = levy(X)\n",
    "\n",
    "feature_dimension = X.shape[1]\n",
    "\n",
    "X_train, X_test, y_train, y_test = train_test_split(X, y, test_size=0.7, random_state=14)\n",
    "\n",
    "print(X_test[0], y_test[0])"
   ]
  },
  {
   "cell_type": "code",
   "execution_count": 3,
   "metadata": {},
   "outputs": [],
   "source": [
    "\n",
    "#print(\"Root Mean Squared Error:\", rmse)"
   ]
  }
 ],
 "metadata": {
  "kernelspec": {
   "display_name": "qml",
   "language": "python",
   "name": "python3"
  },
  "language_info": {
   "codemirror_mode": {
    "name": "ipython",
    "version": 3
   },
   "file_extension": ".py",
   "mimetype": "text/x-python",
   "name": "python",
   "nbconvert_exporter": "python",
   "pygments_lexer": "ipython3",
   "version": "3.12.2"
  }
 },
 "nbformat": 4,
 "nbformat_minor": 2
}
