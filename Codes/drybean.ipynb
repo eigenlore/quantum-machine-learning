{
 "cells": [
  {
   "cell_type": "code",
   "execution_count": 3,
   "metadata": {},
   "outputs": [
    {
     "name": "stderr",
     "output_type": "stream",
     "text": [
      "No permission to create OpenML directory at /home/lore/.config/openml! This can result in OpenML-Python not working properly.\n",
      "/tmp/ipykernel_182910/2048659608.py:8: FutureWarning: Starting from Version 0.15 `download_data`, `download_qualities`, and `download_features_meta_data` will all be ``False`` instead of ``True`` by default to enable lazy loading. To disable this message until version 0.15 explicitly set `download_data`, `download_qualities`, and `download_features_meta_data` to a bool while calling `get_dataset`.\n",
      "  dataset = openml.datasets.get_dataset(41138)  # ID del dataset Dry Bean su OpenML\n"
     ]
    },
    {
     "ename": "ValueError",
     "evalue": "too many values to unpack (expected 2)",
     "output_type": "error",
     "traceback": [
      "\u001b[0;31m---------------------------------------------------------------------------\u001b[0m",
      "\u001b[0;31mValueError\u001b[0m                                Traceback (most recent call last)",
      "Cell \u001b[0;32mIn[3], line 9\u001b[0m\n\u001b[1;32m      7\u001b[0m \u001b[38;5;66;03m# Step 1: Scarica i dati\u001b[39;00m\n\u001b[1;32m      8\u001b[0m dataset \u001b[38;5;241m=\u001b[39m openml\u001b[38;5;241m.\u001b[39mdatasets\u001b[38;5;241m.\u001b[39mget_dataset(\u001b[38;5;241m41138\u001b[39m)  \u001b[38;5;66;03m# ID del dataset Dry Bean su OpenML\u001b[39;00m\n\u001b[0;32m----> 9\u001b[0m data, meta \u001b[38;5;241m=\u001b[39m dataset\u001b[38;5;241m.\u001b[39mget_data()\n\u001b[1;32m     10\u001b[0m data \u001b[38;5;241m=\u001b[39m pd\u001b[38;5;241m.\u001b[39mDataFrame(data, columns\u001b[38;5;241m=\u001b[39mmeta\u001b[38;5;241m.\u001b[39mfeature_names)\n\u001b[1;32m     11\u001b[0m data[\u001b[38;5;124m'\u001b[39m\u001b[38;5;124mClass\u001b[39m\u001b[38;5;124m'\u001b[39m] \u001b[38;5;241m=\u001b[39m data[\u001b[38;5;124m'\u001b[39m\u001b[38;5;124mClass\u001b[39m\u001b[38;5;124m'\u001b[39m]\u001b[38;5;241m.\u001b[39mastype(\u001b[38;5;124m'\u001b[39m\u001b[38;5;124mcategory\u001b[39m\u001b[38;5;124m'\u001b[39m)\n",
      "\u001b[0;31mValueError\u001b[0m: too many values to unpack (expected 2)"
     ]
    }
   ],
   "source": [
    "import openml\n",
    "import pandas as pd\n",
    "from sklearn.preprocessing import StandardScaler\n",
    "from sklearn.decomposition import PCA\n",
    "import matplotlib.pyplot as plt\n",
    "\n",
    "# Step 1: Scarica i dati\n",
    "dataset = openml.datasets.get_dataset(41138)  # ID del dataset Dry Bean su OpenML\n",
    "data, meta = dataset.get_data()\n",
    "data = pd.DataFrame(data, columns=meta.feature_names)\n",
    "data['Class'] = data['Class'].astype('category')\n",
    "\n",
    "# Step 2: Esamina i dati\n",
    "print(data.head())\n",
    "\n",
    "# Step 3: Prepara i dati per PCA\n",
    "features = data.columns[:-1]  # Tutte le colonne tranne l'ultima che è l'etichetta\n",
    "x = data[features].values\n",
    "\n",
    "# Standardizza i dati\n",
    "x = StandardScaler().fit_transform(x)\n",
    "\n",
    "# Step 4: Esegui PCA\n",
    "pca = PCA(n_components=2)  # Puoi cambiare il numero di componenti principali\n",
    "principalComponents = pca.fit_transform(x)\n",
    "\n",
    "# Crea un DataFrame con i componenti principali\n",
    "principalDf = pd.DataFrame(data=principalComponents, columns=['Principal Component 1', 'Principal Component 2'])\n",
    "\n",
    "# Aggiungi le etichette\n",
    "finalDf = pd.concat([principalDf, data[['Class']]], axis=1)\n",
    "\n",
    "# Step 5: Visualizza i risultati\n",
    "plt.figure(figsize=(10, 8))\n",
    "unique_classes = finalDf['Class'].unique()\n",
    "for cls in unique_classes:\n",
    "    subset = finalDf[finalDf['Class'] == cls]\n",
    "    plt.scatter(subset['Principal Component 1'], subset['Principal Component 2'], label=cls)\n",
    "plt.xlabel('Principal Component 1')\n",
    "plt.ylabel('Principal Component 2')\n",
    "plt.title('2 component PCA')\n",
    "plt.legend()\n",
    "plt.show()\n"
   ]
  }
 ],
 "metadata": {
  "kernelspec": {
   "display_name": "qml",
   "language": "python",
   "name": "python3"
  },
  "language_info": {
   "codemirror_mode": {
    "name": "ipython",
    "version": 3
   },
   "file_extension": ".py",
   "mimetype": "text/x-python",
   "name": "python",
   "nbconvert_exporter": "python",
   "pygments_lexer": "ipython3",
   "version": "3.12.2"
  }
 },
 "nbformat": 4,
 "nbformat_minor": 2
}
