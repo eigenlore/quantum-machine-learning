{
 "cells": [
  {
   "cell_type": "code",
   "execution_count": 1,
   "metadata": {},
   "outputs": [],
   "source": [
    "from qiskit_algorithms.utils import algorithm_globals\n",
    "from sklearn import datasets\n",
    "from sklearn.model_selection import train_test_split\n",
    "from qiskit.circuit.library import ZZFeatureMap, PauliFeatureMap, ZFeatureMap, TwoLocal\n",
    "from qiskit_machine_learning.kernels import FidelityQuantumKernel\n",
    "from sklearn.svm import SVC\n",
    "from sklearn.datasets import make_circles, make_moons, make_blobs\n",
    "from qiskit_machine_learning.datasets import ad_hoc_data\n",
    "\n",
    "from sklearn.preprocessing import StandardScaler, MinMaxScaler\n",
    "\n",
    "import numpy as np\n",
    "from matplotlib import pyplot as plt\n",
    "\n",
    "from qiskit.circuit import ParameterVector\n"
   ]
  },
  {
   "cell_type": "code",
   "execution_count": 6,
   "metadata": {},
   "outputs": [
    {
     "ename": "TypeError",
     "evalue": "only integer scalar arrays can be converted to a scalar index",
     "output_type": "error",
     "traceback": [
      "\u001b[0;31m---------------------------------------------------------------------------\u001b[0m",
      "\u001b[0;31mTypeError\u001b[0m                                 Traceback (most recent call last)",
      "Cell \u001b[0;32mIn[6], line 9\u001b[0m\n\u001b[1;32m      5\u001b[0m feature2 \u001b[38;5;241m=\u001b[39m \u001b[38;5;241m1\u001b[39m\n\u001b[1;32m      7\u001b[0m X_train, y_train, X_test, y_test \u001b[38;5;241m=\u001b[39m ad_hoc_data(n\u001b[38;5;241m=\u001b[39m\u001b[38;5;241m2\u001b[39m, gap\u001b[38;5;241m=\u001b[39m\u001b[38;5;241m0.3\u001b[39m, training_size\u001b[38;5;241m=\u001b[39m\u001b[38;5;241m150\u001b[39m, test_size\u001b[38;5;241m=\u001b[39m\u001b[38;5;241m50\u001b[39m)\n\u001b[0;32m----> 9\u001b[0m X\u001b[38;5;241m=\u001b[39m\u001b[43mnp\u001b[49m\u001b[38;5;241;43m.\u001b[39;49m\u001b[43mconcatenate\u001b[49m\u001b[43m(\u001b[49m\u001b[43mX_train\u001b[49m\u001b[43m,\u001b[49m\u001b[43m \u001b[49m\u001b[43mX_test\u001b[49m\u001b[43m)\u001b[49m\n\u001b[1;32m     10\u001b[0m y\u001b[38;5;241m=\u001b[39mnp\u001b[38;5;241m.\u001b[39mconcatenate(y_train, y_test)\n\u001b[1;32m     12\u001b[0m svm \u001b[38;5;241m=\u001b[39m SVC(kernel\u001b[38;5;241m=\u001b[39m\u001b[38;5;124m'\u001b[39m\u001b[38;5;124mlinear\u001b[39m\u001b[38;5;124m'\u001b[39m) \u001b[38;5;66;03m#hard margin C=inf \u001b[39;00m\n",
      "\u001b[0;31mTypeError\u001b[0m: only integer scalar arrays can be converted to a scalar index"
     ]
    }
   ],
   "source": [
    "# Change this to change classes and features considered. Don't use class 1 and 2 toghether as they are not linearly separable at all.\n",
    "class1 = 0\n",
    "class2 = 1\n",
    "feature1 = 0\n",
    "feature2 = 1\n",
    "\n",
    "X_train, y_train, X_test, y_test = ad_hoc_data(n=2, gap=0.3, training_size=150, test_size=50)\n",
    "\n",
    "X=np.concatenate(X_train, X_test)\n",
    "y=np.concatenate(y_train, y_test)\n",
    "\n",
    "svm = SVC(kernel='linear') #hard margin C=inf \n",
    "svm.fit(X_train,y_train)\n",
    "\n",
    "print('Accuracy: ', svm.score(X_test, y_test))\n",
    "\n",
    "#Plot decision boundary\n",
    "w = svm.coef_[0]\n",
    "a = -w[0] / w[1]\n",
    "xx = np.linspace(X[:, 0].min(), X[:, 0].max())\n",
    "yy = a * xx - (svm.intercept_[0]) / w[1]\n",
    "plt.plot(xx, yy, 'black')\n",
    "\n",
    "#Plot margins\n",
    "w_hat = svm.coef_[0] / (np.sqrt(np.sum(svm.coef_[0] ** 2)))\n",
    "margin = 1 / np.sqrt(np.sum(svm.coef_[0] ** 2))\n",
    "decision_boundary_points = np.array(list(zip(xx, yy)))\n",
    "points_of_line_above = decision_boundary_points + w_hat * margin\n",
    "points_of_line_below = decision_boundary_points - w_hat * margin\n",
    "plt.plot(points_of_line_above[:, 0], points_of_line_above[:, 1], 'b--', linewidth=2)\n",
    "plt.plot(points_of_line_below[:, 0], points_of_line_below[:, 1], 'r--', linewidth=2)\n",
    "colors = ['r', 'b']\n",
    "for i, color in zip([class1, class2], colors):\n",
    "    plt.scatter(X[y == i, 0], X[y == i, 1], color=color, label=f'Class {i+1}', edgecolors='k', s=30)\n",
    "\n",
    "plt.xlabel(f'Feature {feature1+1}')\n",
    "plt.ylabel(f'Feature {feature2+1}')\n",
    "plt.legend()\n",
    "plt.show()"
   ]
  },
  {
   "cell_type": "code",
   "execution_count": 5,
   "metadata": {},
   "outputs": [
    {
     "data": {
      "image/png": "[encoded data removed]",
      "text/plain": [
       "<Figure size 454.517x200.667 with 1 Axes>"
      ]
     },
     "execution_count": 5,
     "metadata": {},
     "output_type": "execute_result"
    }
   ],
   "source": [
    "feature_map= ZFeatureMap(feature_dimension=2)\n",
    "feature_map.decompose().draw('mpl')"
   ]
  },
  {
   "cell_type": "code",
   "execution_count": 6,
   "metadata": {},
   "outputs": [],
   "source": [
    "#create quantum kernel\n",
    "kernel = FidelityQuantumKernel(feature_map=feature_map)"
   ]
  },
  {
   "cell_type": "code",
   "execution_count": 7,
   "metadata": {},
   "outputs": [
    {
     "name": "stdout",
     "output_type": "stream",
     "text": [
      "fitted\n"
     ]
    }
   ],
   "source": [
    "X = MinMaxScaler(feature_range=(0, np.pi)).fit_transform(X) #seems to have better results if compatible with the rotation encoding\n",
    "\n",
    "#fit classical SVM\n",
    "svm = SVC(kernel=kernel.evaluate, C=1) \n",
    "svm.fit(X,y)\n",
    "\n",
    "print('fitted')\n",
    "\n",
    "#plot decision boundary\n",
    "x_min, x_max = X[:, 0].min() - 1, X[:, 0].max() + 1\n",
    "y_min, y_max = X[:, 1].min() - 1, X[:, 1].max() + 1\n",
    "xx, yy = np.meshgrid(np.arange(x_min, x_max, 0.5), np.arange(y_min, y_max, 0.5))\n",
    "Z = svm.predict(np.c_[xx.ravel(), yy.ravel()])\n",
    "Z = Z.reshape(xx.shape)"
   ]
  },
  {
   "cell_type": "code",
   "execution_count": 1,
   "metadata": {},
   "outputs": [
    {
     "ename": "NameError",
     "evalue": "name 'plt' is not defined",
     "output_type": "error",
     "traceback": [
      "\u001b[0;31m---------------------------------------------------------------------------\u001b[0m",
      "\u001b[0;31mNameError\u001b[0m                                 Traceback (most recent call last)",
      "Cell \u001b[0;32mIn[1], line 1\u001b[0m\n\u001b[0;32m----> 1\u001b[0m \u001b[43mplt\u001b[49m\u001b[38;5;241m.\u001b[39mcontourf(xx, yy, Z, cmap\u001b[38;5;241m=\u001b[39m\u001b[38;5;124m'\u001b[39m\u001b[38;5;124mbinary\u001b[39m\u001b[38;5;124m'\u001b[39m)\n\u001b[1;32m      2\u001b[0m colors \u001b[38;5;241m=\u001b[39m [\u001b[38;5;124m'\u001b[39m\u001b[38;5;124mr\u001b[39m\u001b[38;5;124m'\u001b[39m, \u001b[38;5;124m'\u001b[39m\u001b[38;5;124mb\u001b[39m\u001b[38;5;124m'\u001b[39m]\n\u001b[1;32m      3\u001b[0m \u001b[38;5;28;01mfor\u001b[39;00m i, color \u001b[38;5;129;01min\u001b[39;00m \u001b[38;5;28mzip\u001b[39m([class1, class2], colors):\n",
      "\u001b[0;31mNameError\u001b[0m: name 'plt' is not defined"
     ]
    }
   ],
   "source": [
    "plt.contourf(xx, yy, Z, cmap='binary')\n",
    "colors = ['r', 'b']\n",
    "for i, color in zip([class1, class2], colors):\n",
    "    plt.scatter(X[y == i, 0], X[y == i, 1], color=color, label=f'Class {i+1}', edgecolors='k', s=30)\n",
    "plt.xlabel(f'Feature {feature1+1}')\n",
    "plt.ylabel(f'Feature {feature2+1}')\n",
    "plt.legend()\n",
    "plt.show()"
   ]
  }
 ],
 "metadata": {
  "kernelspec": {
   "display_name": "qml",
   "language": "python",
   "name": "python3"
  },
  "language_info": {
   "codemirror_mode": {
    "name": "ipython",
    "version": 3
   },
   "file_extension": ".py",
   "mimetype": "text/x-python",
   "name": "python",
   "nbconvert_exporter": "python",
   "pygments_lexer": "ipython3",
   "version": "3.12.2"
  }
 },
 "nbformat": 4,
 "nbformat_minor": 2
}
